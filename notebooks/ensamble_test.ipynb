{
 "cells": [
  {
   "cell_type": "code",
   "execution_count": 1,
   "id": "33348233",
   "metadata": {},
   "outputs": [
    {
     "name": "stderr",
     "output_type": "stream",
     "text": [
      "2021-10-21 12:11:33.682161: W tensorflow/stream_executor/platform/default/dso_loader.cc:64] Could not load dynamic library 'libcudart.so.11.0'; dlerror: libcudart.so.11.0: cannot open shared object file: No such file or directory\n",
      "2021-10-21 12:11:33.682198: I tensorflow/stream_executor/cuda/cudart_stub.cc:29] Ignore above cudart dlerror if you do not have a GPU set up on your machine.\n"
     ]
    }
   ],
   "source": [
    "import pandas as pd\n",
    "from tensorflow.keras.experimental import LinearModel"
   ]
  },
  {
   "cell_type": "code",
   "execution_count": 2,
   "id": "1a8a3f17",
   "metadata": {},
   "outputs": [],
   "source": [
    "import numpy as np"
   ]
  },
  {
   "cell_type": "code",
   "execution_count": 20,
   "id": "ad98de97",
   "metadata": {},
   "outputs": [],
   "source": [
    "def softmax(x):\n",
    "    return np.exp(x)/sum(np.exp(x))"
   ]
  },
  {
   "cell_type": "code",
   "execution_count": 4,
   "id": "71184720",
   "metadata": {},
   "outputs": [],
   "source": [
    "train_set_path1 = \"../data_sample/simple_ml_task/participants/participant_0/simple_ml_task_0.csv\"\n",
    "train_set_df1 = pd.read_csv(train_set_path1)\n",
    "x_train1, y_train1 = train_set_df1[[\"x1\", \"x2\"]].values[:10], train_set_df1[\"y\"].values[:10]"
   ]
  },
  {
   "cell_type": "code",
   "execution_count": 5,
   "id": "e1c86de0",
   "metadata": {},
   "outputs": [],
   "source": [
    "train_set_path2 = \"../data_sample/simple_ml_task/participants/participant_1/simple_ml_task_1.csv\"\n",
    "train_set_df2 = pd.read_csv(train_set_path2)\n",
    "x_train2, y_train2 = train_set_df2[[\"x1\", \"x2\"]].values, train_set_df2[\"y\"].values"
   ]
  },
  {
   "cell_type": "code",
   "execution_count": 6,
   "id": "b68e88e2",
   "metadata": {},
   "outputs": [
    {
     "name": "stderr",
     "output_type": "stream",
     "text": [
      "2021-10-21 12:11:35.622620: W tensorflow/stream_executor/platform/default/dso_loader.cc:64] Could not load dynamic library 'libcuda.so.1'; dlerror: libcuda.so.1: cannot open shared object file: No such file or directory\n",
      "2021-10-21 12:11:35.622653: W tensorflow/stream_executor/cuda/cuda_driver.cc:269] failed call to cuInit: UNKNOWN ERROR (303)\n",
      "2021-10-21 12:11:35.622678: I tensorflow/stream_executor/cuda/cuda_diagnostics.cc:156] kernel driver does not appear to be running on this host (Lenovo-ideapad): /proc/driver/nvidia/version does not exist\n",
      "2021-10-21 12:11:35.623040: I tensorflow/core/platform/cpu_feature_guard.cc:142] This TensorFlow binary is optimized with oneAPI Deep Neural Network Library (oneDNN) to use the following CPU instructions in performance-critical operations:  AVX2 FMA\n",
      "To enable them in other operations, rebuild TensorFlow with the appropriate compiler flags.\n"
     ]
    }
   ],
   "source": [
    "model1 = LinearModel(activation=\"sigmoid\")\n",
    "model1.compile(optimizer=\"sgd\", loss=\"mse\", metrics=\"accuracy\")\n",
    "\n",
    "model2 = LinearModel(activation=\"sigmoid\")\n",
    "model2.compile(optimizer=\"sgd\", loss=\"mse\", metrics=\"accuracy\")"
   ]
  },
  {
   "cell_type": "code",
   "execution_count": 7,
   "id": "e817697c",
   "metadata": {},
   "outputs": [
    {
     "name": "stderr",
     "output_type": "stream",
     "text": [
      "2021-10-21 12:11:35.722222: I tensorflow/compiler/mlir/mlir_graph_optimization_pass.cc:185] None of the MLIR Optimization Passes are enabled (registered 2)\n"
     ]
    },
    {
     "name": "stdout",
     "output_type": "stream",
     "text": [
      "Epoch 1/3\n",
      "1/1 [==============================] - 0s 377ms/step - loss: 0.2500 - accuracy: 0.7000\n",
      "Epoch 2/3\n",
      "1/1 [==============================] - 0s 3ms/step - loss: 0.2224 - accuracy: 0.7000\n",
      "Epoch 3/3\n",
      "1/1 [==============================] - 0s 4ms/step - loss: 0.2063 - accuracy: 0.7000\n",
      "Epoch 1/3\n",
      "7/7 [==============================] - 0s 1ms/step - loss: 0.2293 - accuracy: 0.8350\n",
      "Epoch 2/3\n",
      "7/7 [==============================] - 0s 2ms/step - loss: 0.1824 - accuracy: 1.0000\n",
      "Epoch 3/3\n",
      "7/7 [==============================] - 0s 1ms/step - loss: 0.1467 - accuracy: 1.0000\n"
     ]
    },
    {
     "data": {
      "text/plain": [
       "<keras.callbacks.History at 0x7f84306eaa90>"
      ]
     },
     "execution_count": 7,
     "metadata": {},
     "output_type": "execute_result"
    }
   ],
   "source": [
    "model1.fit(x_train1, y_train1, epochs=3)\n",
    "model2.fit(x_train2, y_train2, epochs=3)"
   ]
  },
  {
   "cell_type": "code",
   "execution_count": 8,
   "id": "86bcc3a5",
   "metadata": {},
   "outputs": [],
   "source": [
    "models = [model1, model2]"
   ]
  },
  {
   "cell_type": "code",
   "execution_count": 9,
   "id": "e00b92c6",
   "metadata": {},
   "outputs": [],
   "source": [
    "test_set_path = \"../data_sample/simple_ml_task/validator/simple_ml_task_test.csv\"\n",
    "test_set_df = pd.read_csv(test_set_path)\n",
    "x_test, y_test = test_set_df[[\"x1\", \"x2\"]].values, test_set_df[\"y\"].values"
   ]
  },
  {
   "cell_type": "code",
   "execution_count": 10,
   "id": "f5a65929",
   "metadata": {},
   "outputs": [
    {
     "name": "stdout",
     "output_type": "stream",
     "text": [
      "4/4 [==============================] - 0s 1ms/step - loss: 0.2517 - accuracy: 0.4500\n",
      "4/4 [==============================] - 0s 1ms/step - loss: 0.1280 - accuracy: 1.0000\n"
     ]
    }
   ],
   "source": [
    "score1 = model1.evaluate(x_test, y_test)[1]\n",
    "score2 = model2.evaluate(x_test, y_test)[1]"
   ]
  },
  {
   "cell_type": "code",
   "execution_count": 11,
   "id": "274036f5",
   "metadata": {},
   "outputs": [],
   "source": [
    "scores = [score1, score2]"
   ]
  },
  {
   "cell_type": "code",
   "execution_count": 22,
   "id": "c20d8f98",
   "metadata": {},
   "outputs": [],
   "source": [
    "from scipy.special import softmax as sc_softmax"
   ]
  },
  {
   "cell_type": "code",
   "execution_count": 21,
   "id": "b7ee5e23",
   "metadata": {},
   "outputs": [
    {
     "name": "stdout",
     "output_type": "stream",
     "text": [
      "[0.36586441 0.63413559]\n"
     ]
    }
   ],
   "source": [
    "alpha = softmax(scores)\n",
    "print(alpha)"
   ]
  },
  {
   "cell_type": "code",
   "execution_count": 23,
   "id": "efc69e4c",
   "metadata": {},
   "outputs": [
    {
     "name": "stdout",
     "output_type": "stream",
     "text": [
      "[0.36586441 0.63413559]\n"
     ]
    }
   ],
   "source": [
    "alpha = sc_softmax(scores)\n",
    "print(alpha)"
   ]
  },
  {
   "cell_type": "code",
   "execution_count": 13,
   "id": "98c30fb5",
   "metadata": {},
   "outputs": [
    {
     "name": "stdout",
     "output_type": "stream",
     "text": [
      "1/1 [==============================] - 0s 306ms/step - loss: 0.2500 - accuracy: 0.7000\n"
     ]
    },
    {
     "data": {
      "text/plain": [
       "<keras.callbacks.History at 0x7f84305504c0>"
      ]
     },
     "execution_count": 13,
     "metadata": {},
     "output_type": "execute_result"
    }
   ],
   "source": [
    "global_model = LinearModel(activation=\"sigmoid\")\n",
    "global_model.compile(optimizer=\"sgd\", loss=\"mse\", metrics=\"accuracy\")\n",
    "global_model.fit(x_train1, y_train1)"
   ]
  },
  {
   "cell_type": "code",
   "execution_count": 14,
   "id": "e114e170",
   "metadata": {},
   "outputs": [],
   "source": [
    "weights_global_model = model1.get_weights()\n",
    "new_weights = []\n",
    "for layer_weights in weights_global_model:\n",
    "    new_weights.append(np.zeros(layer_weights.shape))\n",
    "    \n",
    "for a_i, model in zip(alpha, models):\n",
    "    weights = model.get_weights()\n",
    "    for idx_layer, layer_weights in enumerate(weights):\n",
    "        new_weights[idx_layer] = new_weights[idx_layer] + layer_weights * a_i \n",
    "global_model.set_weights(new_weights)"
   ]
  },
  {
   "cell_type": "code",
   "execution_count": 15,
   "id": "545610db",
   "metadata": {},
   "outputs": [
    {
     "name": "stdout",
     "output_type": "stream",
     "text": [
      "4/4 [==============================] - 0s 1ms/step - loss: 0.1670 - accuracy: 0.9600\n"
     ]
    },
    {
     "data": {
      "text/plain": [
       "[0.16698062419891357, 0.9599999785423279]"
      ]
     },
     "execution_count": 15,
     "metadata": {},
     "output_type": "execute_result"
    }
   ],
   "source": [
    "global_model.evaluate(x_test, y_test)"
   ]
  },
  {
   "cell_type": "code",
   "execution_count": 16,
   "id": "c4848ac6",
   "metadata": {},
   "outputs": [],
   "source": []
  },
  {
   "cell_type": "code",
   "execution_count": null,
   "id": "fd88ebb2",
   "metadata": {},
   "outputs": [],
   "source": []
  }
 ],
 "metadata": {
  "kernelspec": {
   "display_name": "Python 3 (ipykernel)",
   "language": "python",
   "name": "python3"
  },
  "language_info": {
   "codemirror_mode": {
    "name": "ipython",
    "version": 3
   },
   "file_extension": ".py",
   "mimetype": "text/x-python",
   "name": "python",
   "nbconvert_exporter": "python",
   "pygments_lexer": "ipython3",
   "version": "3.8.10"
  }
 },
 "nbformat": 4,
 "nbformat_minor": 5
}
