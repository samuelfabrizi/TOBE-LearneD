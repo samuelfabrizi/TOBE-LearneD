{
 "cells": [
  {
   "cell_type": "markdown",
   "id": "1f567a2a",
   "metadata": {},
   "source": [
    "# Model comparison after Federated Learning"
   ]
  },
  {
   "cell_type": "code",
   "execution_count": 1,
   "id": "dbfaa121",
   "metadata": {},
   "outputs": [],
   "source": [
    "import sys\n",
    "sys.path.insert(0, \"../\")"
   ]
  },
  {
   "cell_type": "code",
   "execution_count": 2,
   "id": "54f39b28",
   "metadata": {},
   "outputs": [
    {
     "name": "stderr",
     "output_type": "stream",
     "text": [
      "2021-10-25 18:28:54.417735: W tensorflow/stream_executor/platform/default/dso_loader.cc:64] Could not load dynamic library 'libcudart.so.11.0'; dlerror: libcudart.so.11.0: cannot open shared object file: No such file or directory\n",
      "2021-10-25 18:28:54.417767: I tensorflow/stream_executor/cuda/cudart_stub.cc:29] Ignore above cudart dlerror if you do not have a GPU set up on your machine.\n"
     ]
    }
   ],
   "source": [
    "import json\n",
    "import pandas as pd\n",
    "\n",
    "from decentralized_smart_grid_ml.federated_learning.models_reader_writer \\\n",
    "    import load_fl_model, load_fl_model_weights"
   ]
  },
  {
   "cell_type": "code",
   "execution_count": 3,
   "id": "8b984135",
   "metadata": {},
   "outputs": [],
   "source": [
    "task_config_path = \"../data_sample/simple_ml_task/simple_ml_task_config.json\"\n",
    "with open(task_config_path, \"r\") as file_read:\n",
    "    json_config = json.load(file_read)"
   ]
  },
  {
   "cell_type": "code",
   "execution_count": 4,
   "id": "047a5f97",
   "metadata": {},
   "outputs": [],
   "source": [
    "N_PARTICIPANTS = 2\n",
    "task_name = json_config[\"task_name\"]\n",
    "\n",
    "model_path = json_config[\"baseline_model_artifact\"]\n",
    "final_model_weights = \"../data_sample/simple_ml_task/validator/validator_weights_final.json\"\n",
    "features_names = json_config[\"features_names\"]\n",
    "participants_directory = \"../data_sample/\" + task_name + \"/participants/participant_\" \n",
    "test_set_path = \"../data_sample/simple_ml_task/validator/\" + task_name + \"_test.csv\""
   ]
  },
  {
   "cell_type": "markdown",
   "id": "21e8e83d",
   "metadata": {},
   "source": [
    "Load the participants' datasets and concatenate them to obtain a single dataset"
   ]
  },
  {
   "cell_type": "code",
   "execution_count": 5,
   "id": "2e311003",
   "metadata": {},
   "outputs": [],
   "source": [
    "participants_datasets = []\n",
    "for i in range(N_PARTICIPANTS):\n",
    "    participants_datasets.append(\n",
    "        pd.read_csv(\n",
    "            participants_directory + str(i) + \"/\" + task_name + \"_\" + str(i) + \".csv\"\n",
    "        )\n",
    "    )\n",
    "whole_participants_df = pd.concat(participants_datasets)"
   ]
  },
  {
   "cell_type": "code",
   "execution_count": 6,
   "id": "6f30a9e0",
   "metadata": {},
   "outputs": [],
   "source": [
    "x_train = whole_participants_df[features_names[\"features\"]].values\n",
    "y_train = whole_participants_df[features_names[\"labels\"]].values"
   ]
  },
  {
   "cell_type": "markdown",
   "id": "bc5c2462",
   "metadata": {},
   "source": [
    "Load the test set used to compute the metrics"
   ]
  },
  {
   "cell_type": "code",
   "execution_count": 7,
   "id": "1aebd9b5",
   "metadata": {},
   "outputs": [],
   "source": [
    "test_set_df = pd.read_csv(test_set_path)\n",
    "x_test = test_set_df[features_names[\"features\"]].values\n",
    "y_test = test_set_df[features_names[\"labels\"]].values"
   ]
  },
  {
   "cell_type": "markdown",
   "id": "79d364e0",
   "metadata": {},
   "source": [
    "Load and train the original model with the participants' datasets"
   ]
  },
  {
   "cell_type": "code",
   "execution_count": 8,
   "id": "e25a39a3",
   "metadata": {
    "scrolled": true
   },
   "outputs": [
    {
     "name": "stdout",
     "output_type": "stream",
     "text": [
      "2021-10-25 18:28:56,542 - decentralized_smart_grid_ml.federated_learning.models_reader_writer - INFO - Load model from  /home/fabsam/Documenti/university/masterDegree/thesis/Decentralized-SmartGrid-ML/data_sample/simple_ml_task/linear_model\n"
     ]
    },
    {
     "name": "stderr",
     "output_type": "stream",
     "text": [
      "2021-10-25 18:28:56.391756: W tensorflow/stream_executor/platform/default/dso_loader.cc:64] Could not load dynamic library 'libcuda.so.1'; dlerror: libcuda.so.1: cannot open shared object file: No such file or directory\n",
      "2021-10-25 18:28:56.391789: W tensorflow/stream_executor/cuda/cuda_driver.cc:269] failed call to cuInit: UNKNOWN ERROR (303)\n",
      "2021-10-25 18:28:56.391815: I tensorflow/stream_executor/cuda/cuda_diagnostics.cc:156] kernel driver does not appear to be running on this host (Lenovo-ideapad): /proc/driver/nvidia/version does not exist\n",
      "2021-10-25 18:28:56.392059: I tensorflow/core/platform/cpu_feature_guard.cc:142] This TensorFlow binary is optimized with oneAPI Deep Neural Network Library (oneDNN) to use the following CPU instructions in performance-critical operations:  AVX2 FMA\n",
      "To enable them in other operations, rebuild TensorFlow with the appropriate compiler flags.\n",
      "2021-10-25 18:28:56.593549: I tensorflow/compiler/mlir/mlir_graph_optimization_pass.cc:185] None of the MLIR Optimization Passes are enabled (registered 2)\n"
     ]
    },
    {
     "name": "stdout",
     "output_type": "stream",
     "text": [
      "Epoch 1/2\n",
      "13/13 [==============================] - 0s 1ms/step - loss: 0.2087 - accuracy: 0.8925\n",
      "Epoch 2/2\n",
      "13/13 [==============================] - 0s 2ms/step - loss: 0.1420 - accuracy: 0.9975\n"
     ]
    },
    {
     "data": {
      "text/plain": [
       "<keras.callbacks.History at 0x7fbc48378850>"
      ]
     },
     "execution_count": 8,
     "metadata": {},
     "output_type": "execute_result"
    }
   ],
   "source": [
    "model = load_fl_model(model_path)\n",
    "model.fit(x_train, y_train, epochs=json_config[\"epochs\"])"
   ]
  },
  {
   "cell_type": "markdown",
   "id": "b6cbce93",
   "metadata": {},
   "source": [
    "Load the global model obtained with the federated learning approach"
   ]
  },
  {
   "cell_type": "code",
   "execution_count": 9,
   "id": "30e6fe5f",
   "metadata": {},
   "outputs": [
    {
     "name": "stdout",
     "output_type": "stream",
     "text": [
      "2021-10-25 18:28:57,177 - decentralized_smart_grid_ml.federated_learning.models_reader_writer - INFO - Load model from  /home/fabsam/Documenti/university/masterDegree/thesis/Decentralized-SmartGrid-ML/data_sample/simple_ml_task/linear_model\n",
      "2021-10-25 18:28:57,178 - decentralized_smart_grid_ml.federated_learning.models_reader_writer - INFO - Loaded model's weights from ../data_sample/simple_ml_task/validator/validator_weights_final.json\n",
      "4/4 [==============================] - 0s 2ms/step - loss: 0.1094 - accuracy: 1.0000\n"
     ]
    },
    {
     "data": {
      "text/plain": [
       "[0.10936731100082397, 1.0]"
      ]
     },
     "execution_count": 9,
     "metadata": {},
     "output_type": "execute_result"
    }
   ],
   "source": [
    "fl_model = load_fl_model(model_path)\n",
    "final_weights = load_fl_model_weights(final_model_weights)\n",
    "fl_model.set_weights(final_weights)\n",
    "fl_model.evaluate(x_test, y_test)"
   ]
  },
  {
   "cell_type": "markdown",
   "id": "e162e5d5",
   "metadata": {},
   "source": [
    "Compare the results"
   ]
  },
  {
   "cell_type": "code",
   "execution_count": 10,
   "id": "2edd77fd",
   "metadata": {},
   "outputs": [
    {
     "name": "stdout",
     "output_type": "stream",
     "text": [
      "4/4 [==============================] - 0s 1ms/step - loss: 0.1105 - accuracy: 1.0000\n",
      "Model trained with the participants' dataset:  [0.11047482490539551, 1.0]\n",
      "4/4 [==============================] - 0s 1ms/step - loss: 0.1094 - accuracy: 1.0000\n",
      "Global model trained with the FL approach:  [0.10936731100082397, 1.0]\n"
     ]
    }
   ],
   "source": [
    "print(\"Model trained with the participants' dataset: \", model.evaluate(x_test, y_test))\n",
    "print(\"Global model trained with the FL approach: \", fl_model.evaluate(x_test, y_test))"
   ]
  }
 ],
 "metadata": {
  "kernelspec": {
   "display_name": "Python 3 (ipykernel)",
   "language": "python",
   "name": "python3"
  },
  "language_info": {
   "codemirror_mode": {
    "name": "ipython",
    "version": 3
   },
   "file_extension": ".py",
   "mimetype": "text/x-python",
   "name": "python",
   "nbconvert_exporter": "python",
   "pygments_lexer": "ipython3",
   "version": "3.8.10"
  }
 },
 "nbformat": 4,
 "nbformat_minor": 5
}
