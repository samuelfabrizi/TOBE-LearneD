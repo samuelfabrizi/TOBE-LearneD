{
 "cells": [
  {
   "cell_type": "markdown",
   "id": "1f567a2a",
   "metadata": {},
   "source": [
    "# Model comparison after Federated Learning"
   ]
  },
  {
   "cell_type": "code",
   "execution_count": 1,
   "id": "dbfaa121",
   "metadata": {},
   "outputs": [],
   "source": [
    "import sys\n",
    "sys.path.insert(0, \"../\")"
   ]
  },
  {
   "cell_type": "code",
   "execution_count": 10,
   "id": "54f39b28",
   "metadata": {},
   "outputs": [],
   "source": [
    "import json\n",
    "import pandas as pd\n",
    "from matplotlib import pyplot as plt\n",
    "\n",
    "from mlxtend.plotting import plot_decision_regions\n",
    "\n",
    "from decentralized_smart_grid_ml.federated_learning.models_reader_writer \\\n",
    "    import load_fl_model, load_fl_model_weights"
   ]
  },
  {
   "cell_type": "code",
   "execution_count": 19,
   "id": "ffddafa7",
   "metadata": {},
   "outputs": [],
   "source": [
    "plt.style.use('seaborn')"
   ]
  },
  {
   "cell_type": "code",
   "execution_count": 3,
   "id": "8b984135",
   "metadata": {},
   "outputs": [],
   "source": [
    "task_config_path = \"../data_sample/simple_ml_task/simple_ml_task_config.json\"\n",
    "with open(task_config_path, \"r\") as file_read:\n",
    "    json_config = json.load(file_read)"
   ]
  },
  {
   "cell_type": "code",
   "execution_count": 11,
   "id": "047a5f97",
   "metadata": {},
   "outputs": [],
   "source": [
    "N_PARTICIPANTS = 2\n",
    "task_name = json_config[\"task_name\"]\n",
    "\n",
    "model_path = json_config[\"baseline_model_artifact\"]\n",
    "final_model_weights = \"../data_sample/simple_ml_task/validator/validator_weights_final.json\"\n",
    "features_names = json_config[\"features_names\"]\n",
    "participants_directory = \"../data_sample/\" + task_name + \"/participants/participant_\" \n",
    "test_set_path = \"../data_sample/simple_ml_task/validator/\" + task_name + \"_test.csv\""
   ]
  },
  {
   "cell_type": "markdown",
   "id": "21e8e83d",
   "metadata": {},
   "source": [
    "Load the participants' datasets and concatenate them to obtain a single dataset"
   ]
  },
  {
   "cell_type": "code",
   "execution_count": 12,
   "id": "2e311003",
   "metadata": {},
   "outputs": [],
   "source": [
    "participants_datasets = []\n",
    "for i in range(N_PARTICIPANTS):\n",
    "    participants_datasets.append(\n",
    "        pd.read_csv(\n",
    "            participants_directory + str(i) + \"/\" + task_name + \"_\" + str(i) + \".csv\"\n",
    "        )\n",
    "    )\n",
    "whole_participants_df = pd.concat(participants_datasets)"
   ]
  },
  {
   "cell_type": "code",
   "execution_count": 13,
   "id": "6f30a9e0",
   "metadata": {},
   "outputs": [],
   "source": [
    "x_train = whole_participants_df[features_names[\"features\"]].values\n",
    "y_train = whole_participants_df[features_names[\"labels\"]].values"
   ]
  },
  {
   "cell_type": "markdown",
   "id": "bc5c2462",
   "metadata": {},
   "source": [
    "Load the test set used to compute the metrics"
   ]
  },
  {
   "cell_type": "code",
   "execution_count": 14,
   "id": "1aebd9b5",
   "metadata": {},
   "outputs": [],
   "source": [
    "test_set_df = pd.read_csv(test_set_path)\n",
    "x_test = test_set_df[features_names[\"features\"]].values\n",
    "y_test = test_set_df[features_names[\"labels\"]].values"
   ]
  },
  {
   "cell_type": "markdown",
   "id": "79d364e0",
   "metadata": {},
   "source": [
    "Load and train the original model with the participants' datasets"
   ]
  },
  {
   "cell_type": "code",
   "execution_count": 22,
   "id": "e25a39a3",
   "metadata": {
    "scrolled": true
   },
   "outputs": [
    {
     "name": "stdout",
     "output_type": "stream",
     "text": [
      "2021-10-26 17:39:22,791 - decentralized_smart_grid_ml.federated_learning.models_reader_writer - INFO - Load model from  /home/fabsam/Documenti/university/masterDegree/thesis/Decentralized-SmartGrid-ML/data_sample/simple_ml_task/linear_model\n",
      "Epoch 1/4\n",
      "13/13 [==============================] - 0s 1ms/step - loss: 0.2467 - accuracy: 0.5850\n",
      "Epoch 2/4\n",
      "13/13 [==============================] - 0s 1ms/step - loss: 0.2357 - accuracy: 0.6975\n",
      "Epoch 3/4\n",
      "13/13 [==============================] - 0s 1ms/step - loss: 0.2249 - accuracy: 0.8750\n",
      "Epoch 4/4\n",
      "13/13 [==============================] - 0s 2ms/step - loss: 0.2203 - accuracy: 0.6950\n"
     ]
    },
    {
     "data": {
      "text/plain": [
       "<keras.callbacks.History at 0x7ffb08233be0>"
      ]
     },
     "execution_count": 22,
     "metadata": {},
     "output_type": "execute_result"
    }
   ],
   "source": [
    "model = load_fl_model(model_path)\n",
    "model.fit(x_train, y_train, epochs=json_config[\"epochs\"]*json_config[\"fl_rounds\"])"
   ]
  },
  {
   "cell_type": "code",
   "execution_count": 23,
   "id": "40fe0f50",
   "metadata": {},
   "outputs": [
    {
     "data": {
      "image/png": "[encoded data removed]",
      "text/plain": [
       "<Figure size 576x396 with 1 Axes>"
      ]
     },
     "metadata": {},
     "output_type": "display_data"
    }
   ],
   "source": [
    "plot_decision_regions(x_test, y_test, clf=model, legend=2)\n",
    "plt.xlabel(\"x1\")\n",
    "plt.ylabel(\"x2\")\n",
    "plt.show()"
   ]
  },
  {
   "cell_type": "markdown",
   "id": "b6cbce93",
   "metadata": {},
   "source": [
    "Load the global model obtained with the federated learning approach"
   ]
  },
  {
   "cell_type": "code",
   "execution_count": 24,
   "id": "30e6fe5f",
   "metadata": {
    "scrolled": true
   },
   "outputs": [
    {
     "name": "stdout",
     "output_type": "stream",
     "text": [
      "2021-10-26 17:39:31,962 - decentralized_smart_grid_ml.federated_learning.models_reader_writer - INFO - Load model from  /home/fabsam/Documenti/university/masterDegree/thesis/Decentralized-SmartGrid-ML/data_sample/simple_ml_task/linear_model\n",
      "2021-10-26 17:39:31,963 - decentralized_smart_grid_ml.federated_learning.models_reader_writer - INFO - Loaded model's weights from ../data_sample/simple_ml_task/validator/validator_weights_final.json\n",
      "4/4 [==============================] - 0s 1ms/step - loss: 0.2295 - accuracy: 0.8800\n"
     ]
    },
    {
     "data": {
      "text/plain": [
       "[0.22951039671897888, 0.8799999952316284]"
      ]
     },
     "execution_count": 24,
     "metadata": {},
     "output_type": "execute_result"
    }
   ],
   "source": [
    "fl_model = load_fl_model(model_path)\n",
    "final_weights = load_fl_model_weights(final_model_weights)\n",
    "fl_model.set_weights(final_weights)\n",
    "fl_model.evaluate(x_test, y_test)"
   ]
  },
  {
   "cell_type": "code",
   "execution_count": 25,
   "id": "43244309",
   "metadata": {},
   "outputs": [
    {
     "data": {
      "image/png": "[encoded data removed]",
      "text/plain": [
       "<Figure size 576x396 with 1 Axes>"
      ]
     },
     "metadata": {},
     "output_type": "display_data"
    }
   ],
   "source": [
    "plot_decision_regions(x_test, y_test, clf=fl_model, legend=2)\n",
    "plt.xlabel(\"x1\")\n",
    "plt.ylabel(\"x2\")\n",
    "plt.show()"
   ]
  },
  {
   "cell_type": "markdown",
   "id": "e162e5d5",
   "metadata": {},
   "source": [
    "Compare the results"
   ]
  },
  {
   "cell_type": "code",
   "execution_count": 26,
   "id": "2edd77fd",
   "metadata": {},
   "outputs": [
    {
     "name": "stdout",
     "output_type": "stream",
     "text": [
      "4/4 [==============================] - 0s 1ms/step - loss: 0.2139 - accuracy: 0.8900\n",
      "Model trained with the participants' dataset:  [0.21392694115638733, 0.8899999856948853]\n",
      "4/4 [==============================] - 0s 2ms/step - loss: 0.2295 - accuracy: 0.8800\n",
      "Global model trained with the FL approach:  [0.22951039671897888, 0.8799999952316284]\n"
     ]
    }
   ],
   "source": [
    "print(\"Model trained with the participants' dataset: \", model.evaluate(x_test, y_test))\n",
    "print(\"Global model trained with the FL approach: \", fl_model.evaluate(x_test, y_test))"
   ]
  },
  {
   "cell_type": "code",
   "execution_count": null,
   "id": "d94b4033",
   "metadata": {},
   "outputs": [],
   "source": []
  }
 ],
 "metadata": {
  "kernelspec": {
   "display_name": "Python 3 (ipykernel)",
   "language": "python",
   "name": "python3"
  },
  "language_info": {
   "codemirror_mode": {
    "name": "ipython",
    "version": 3
   },
   "file_extension": ".py",
   "mimetype": "text/x-python",
   "name": "python",
   "nbconvert_exporter": "python",
   "pygments_lexer": "ipython3",
   "version": "3.8.10"
  }
 },
 "nbformat": 4,
 "nbformat_minor": 5
}
